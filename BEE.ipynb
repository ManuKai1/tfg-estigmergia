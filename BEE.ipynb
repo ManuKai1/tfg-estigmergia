{
 "cells": [
  {
   "cell_type": "markdown",
   "metadata": {},
   "source": [
    "# Bee Colony Optimization"
   ]
  },
  {
   "cell_type": "markdown",
   "metadata": {},
   "source": [
    "Cada abeja representa una solución al problema.\n",
    "Entorno: grafo del problema del viajante timétrico a resolver.\n",
    "Se representa como una matriz de adyacencia en la que el valor de la posición [i][j] es la distancia entre las ciudades i y j."
   ]
  },
  {
   "cell_type": "code",
   "execution_count": null,
   "metadata": {},
   "outputs": [],
   "source": [
    "import random\n",
    "import copy\n",
    "import json\n",
    "import time\n",
    "import tsplib95"
   ]
  },
  {
   "cell_type": "markdown",
   "metadata": {},
   "source": [
    "### Función cargaCasoDePrueba\n",
    "\n",
    "Lee un caso de prueba del fichero con nombre _nombreFichero_ y devuelve la matriz de adyacencia correspondiente."
   ]
  },
  {
   "cell_type": "code",
   "execution_count": null,
   "metadata": {},
   "outputs": [],
   "source": [
    "def cargaCasoDePrueba(nombreFichero):\n",
    "    with open(nombreFichero, 'r') as archivo:\n",
    "        matrizAdy = json.loads(archivo.read())\n",
    "    return matrizAdy"
   ]
  },
  {
   "cell_type": "markdown",
   "metadata": {},
   "source": [
    "### Función tsplibAMatrizAdyacencia\n",
    "\n",
    "Convierte el problema dado del formato tsplib a la matriz de adyacencia correspondiente."
   ]
  },
  {
   "cell_type": "code",
   "execution_count": null,
   "metadata": {},
   "outputs": [],
   "source": [
    "def tsplibAMatrizAdyacencia(problema):\n",
    "    matrizAdy = [[]] * problema.dimension\n",
    "    for i in range(problema.dimension):\n",
    "        matrizAdy[i] = [problema.get_weight(i+1,j+1) for j in range(problema.dimension)]\n",
    "    return matrizAdy"
   ]
  },
  {
   "cell_type": "markdown",
   "metadata": {},
   "source": [
    "### Función cargaCasoTsplib\n",
    "\n",
    "Carga un problema de la tsplib y lo devuelve ya en forma de matriz de adyacencia."
   ]
  },
  {
   "cell_type": "code",
   "execution_count": null,
   "metadata": {},
   "outputs": [],
   "source": [
    "def cargaCasoTsplib(nombreFichero):\n",
    "    problema = tsplib95.load(nombreFichero)\n",
    "    return tsplibAMatrizAdyacencia(problema)"
   ]
  },
  {
   "cell_type": "markdown",
   "metadata": {},
   "source": [
    "### Función guardarResultados\n",
    "\n",
    "Dadas las ejecuciones de un algoritmo, las guarda en un fichero formateado adecuadamente para posteriormente cargarlas en el notebook Graficas.ipynb"
   ]
  },
  {
   "cell_type": "code",
   "execution_count": null,
   "metadata": {},
   "outputs": [],
   "source": [
    "def guardarResultados(ejecuciones, problema, algoritmo, num):\n",
    "    nombreFichero = problema + \"_\" + algoritmo + \"_\" + str(num) + \".txt\"\n",
    "    with open(nombreFichero, 'a') as archivo:\n",
    "        for ejecucion in ejecuciones:\n",
    "            archivo.write(str(ejecucion[0]) + '\\n')\n",
    "            for abeja in ejecucion[1]:\n",
    "                archivo.write(str(abeja))\n",
    "            archivo.write('FIN\\n')"
   ]
  },
  {
   "cell_type": "markdown",
   "metadata": {},
   "source": [
    "## Arista\n",
    "La clase Arista nos permite representar un camino entre dos ciudades concretas."
   ]
  },
  {
   "cell_type": "code",
   "execution_count": null,
   "metadata": {},
   "outputs": [],
   "source": [
    "class Arista:\n",
    "    def __init__(self, desde, hasta, distancia=None):\n",
    "        self.desde = desde\n",
    "        self.hasta = hasta\n",
    "        self.distancia = 1 if distancia is None else distancia"
   ]
  },
  {
   "cell_type": "markdown",
   "metadata": {},
   "source": [
    "## Entorno\n",
    "La clase Entorno representa una instancia del problema del viajante a resolver. Contiene una serie determinada de Aristas que crean el grafo a resolver."
   ]
  },
  {
   "cell_type": "code",
   "execution_count": null,
   "metadata": {},
   "outputs": [],
   "source": [
    "class Entorno:\n",
    "    def __init__(self, matrizAdy):\n",
    "        self.conjuntoAristas = set()\n",
    "        self.aristas = self.creaAristas(matrizAdy)\n",
    "        self.numVertices = len(matrizAdy)\n",
    "        self.colmena = 0\n",
    "        \n",
    "    def creaAristas(self, matrizAdy):\n",
    "        aristas = {}\n",
    "        for i in range(len(matrizAdy)):\n",
    "            for j in range(i):\n",
    "                arista = Arista(i, j, matrizAdy[i][j])\n",
    "                aristas[i,j] = arista\n",
    "                aristas[j,i] = arista\n",
    "                self.conjuntoAristas.add(arista)\n",
    "        return aristas\n",
    "    \n",
    "    # Ubica la colmena en una nueva localización aleatoria\n",
    "    def situaColmena(self):\n",
    "        self.colmena = random.randrange(self.numVertices)"
   ]
  },
  {
   "cell_type": "markdown",
   "metadata": {},
   "source": [
    "## Abeja\n",
    "La clase Abeja representa una solución concreta al problema planteado en el entorno.\n",
    "Salen de una localización donde se encuentra la colmena y recolectan néctar por el camino (recolectan más néctar cuanto más corto sea el camino recorrido). Al volver a la colmena tienen una cierta probabilidad de bailar para atraer a más abejas por su camino, o bien vuelven a partir ellas solas."
   ]
  },
  {
   "cell_type": "code",
   "execution_count": null,
   "metadata": {},
   "outputs": [],
   "source": [
    "class Abeja:\n",
    "\n",
    "    def __init__(self):\n",
    "        self.nodoActual = None\n",
    "        self.inicio = None\n",
    "        self.entorno = None\n",
    "        self.visitados = []\n",
    "        self.porVisitar = []\n",
    "        self.trayecto = []\n",
    "        self.distancia = 0\n",
    "        self.seguidor = False\n",
    "        \n",
    "    def __str__(self):\n",
    "        resultado = str(self.distancia) + '\\n' + str(self.visitados) + '\\n'\n",
    "        return resultado\n",
    "    \n",
    "    def __repr__(self):\n",
    "        resultado = str(self.distancia) + '\\n' + str(self.visitados) + '\\n'\n",
    "        return resultado\n",
    "        \n",
    "    # Nos va a interesar poder ordenar las abejas según la distancia de su solución\n",
    "    # para poder ordenarlas y quedarnos con la mejor.\n",
    "    def __eq__(self,other):\n",
    "        return self.distancia == other.distancia\n",
    "    \n",
    "    def __lt__(self,other):\n",
    "        return self.distancia < other.distancia\n",
    "        \n",
    "    def inicializar(self, entorno, inicio):\n",
    "        self.entorno = entorno\n",
    "        self.inicio = inicio\n",
    "        self.nodoActual = inicio\n",
    "        self.visitados = [inicio]\n",
    "        self.porVisitar = [v for v in range(entorno.numVertices) if v != inicio]\n",
    "        self.trayecto = []\n",
    "        self.distancia = 0\n",
    "        self.seguidor = False\n",
    "        return self\n",
    "    \n",
    "    # Elige un movimiento según BCO y lo efectúa devolviendo la arista elegida.\n",
    "    def movimiento(self):\n",
    "        eleccion = self.elegirMovimiento()\n",
    "        return self.realizaMovimiento(eleccion)\n",
    "    \n",
    "    # Elige el movimiento según BCO Devuelve la arista a usar.\n",
    "    def elegirMovimiento(self):\n",
    "        # Sólo queda volver al nodo original\n",
    "        if not self.porVisitar:\n",
    "            return self.entorno.aristas[self.nodoActual, self.inicio]\n",
    "        # Sólo queda un nodo por visitar\n",
    "        if len(self.porVisitar) == 1:\n",
    "            return self.entorno.aristas[self.nodoActual, self.porVisitar[0]]\n",
    "        listaAristas = []\n",
    "        for nodo in self.porVisitar:\n",
    "            listaAristas.append(self.entorno.aristas[self.nodoActual, nodo])\n",
    "        listaPesos = [1/arista.distancia for arista in listaAristas]\n",
    "        pesoAcumulado = sum(listaPesos)\n",
    "        probabilidades = []\n",
    "        for peso in listaPesos:\n",
    "            # Calculamos las probabilidades en %\n",
    "            probabilidades.append(100 * peso/pesoAcumulado)\n",
    "        return random.choices(listaAristas, weights=probabilidades)[0]\n",
    "    \n",
    "    def realizaMovimiento(self, arista):\n",
    "        hasta = arista.hasta if self.nodoActual == arista.desde else arista.desde\n",
    "        if  not (hasta == self.inicio):\n",
    "            self.visitados.append(hasta)\n",
    "            self.porVisitar.remove(hasta)\n",
    "        self.distancia += arista.distancia\n",
    "        self.nodoActual = hasta\n",
    "        return arista\n",
    "    \n",
    "    def calculaSeguir(self, colonia, probabilidades, posicion):\n",
    "        if(random.choices(range(len(colonia)), weights=probabilidades)[0] < posicion):\n",
    "            self.seguidor = True\n",
    "        else:\n",
    "            self.seguidor = False\n",
    "            \n",
    "    def eligeReclutador(self, listaReclutadores, probabilidades):\n",
    "        reclutador = random.choices(listaReclutadores, weights=probabilidades)[0]\n",
    "        self.inicio = copy.deepcopy(reclutador.inicio)\n",
    "        self.nodoActual = copy.deepcopy(reclutador.nodoActual)\n",
    "        self.visitados = copy.deepcopy(reclutador.visitados)\n",
    "        self.porVisitar = copy.deepcopy(reclutador.porVisitar)\n",
    "        self.trayecto = copy.deepcopy(reclutador.trayecto)\n",
    "        self.distancia = copy.deepcopy(reclutador.distancia)"
   ]
  },
  {
   "cell_type": "markdown",
   "metadata": {},
   "source": [
    "## Funciones\n",
    "\n",
    "### Función crearColonia\n",
    "\n",
    "Esta función genera una nueva colonia de abejas y las sitúa en la colmena."
   ]
  },
  {
   "cell_type": "code",
   "execution_count": null,
   "metadata": {},
   "outputs": [],
   "source": [
    "def crearColonia(entorno, numAbejas):\n",
    "    colonia = []\n",
    "    for i in range(numAbejas):\n",
    "            nuevaAbeja = Abeja().inicializar(entorno, 0)\n",
    "            colonia.append(nuevaAbeja)\n",
    "    return colonia"
   ]
  },
  {
   "cell_type": "code",
   "execution_count": null,
   "metadata": {},
   "outputs": [],
   "source": [
    "def paso(entorno, colonia):\n",
    "    for abeja in colonia:\n",
    "        arista = abeja.movimiento()\n",
    "        abeja.trayecto.append(arista)"
   ]
  },
  {
   "cell_type": "markdown",
   "metadata": {},
   "source": [
    "### Funciones BeeSystem\n",
    "\n",
    "Dado un entorno, un número de iteraciones, y un número de hormigas, aplica la metaheurística del Bee System para intentar obtener una buena solución al problema del TSP. Devuelve la mejor solución encontrada tras todas las iteraciones. En la función BeeSystemConNC se pueden elegir los pasos que se dan antes de volver a la colmena, en BeeSystem se avanza de uno en uno."
   ]
  },
  {
   "cell_type": "code",
   "execution_count": null,
   "metadata": {},
   "outputs": [],
   "source": [
    "def BeeSystemConNC(entorno, numAbejas, NC):\n",
    "    tiempoInicio = time.time()\n",
    "    mejorSolucionGlobal = None\n",
    "    colonia = crearColonia(entorno, numAbejas)\n",
    "    numP = 0\n",
    "    while numP < entorno.numVertices:\n",
    "        k = 0\n",
    "        while k < NC and numP < entorno.numVertices: \n",
    "            paso(entorno, colonia)\n",
    "            k += 1\n",
    "            numP += 1\n",
    "        colonia = sorted(colonia)\n",
    "        listaPesos = [1/abeja.distancia for abeja in colonia]\n",
    "        pesoAcumulado = sum(listaPesos)\n",
    "        probabilidades = []\n",
    "        for peso in listaPesos:\n",
    "            # Calculamos las probabilidades en %\n",
    "            probabilidades.append(100 * peso/pesoAcumulado)\n",
    "        i = 0\n",
    "        for abeja in colonia:\n",
    "            abeja.calculaSeguir(colonia, probabilidades, i)\n",
    "            i = i + 1\n",
    "        listaReclutadores = [abeja for abeja in colonia if (not abeja.seguidor)]\n",
    "        listaSeguidores = [abeja for abeja in colonia if abeja.seguidor]\n",
    "        listaPesos = [1/reclutador.distancia for reclutador in listaReclutadores]\n",
    "        pesoAcumulado = sum(listaPesos)\n",
    "        probabilidades = []\n",
    "        for peso in listaPesos:\n",
    "            # Calculamos las probabilidades en %\n",
    "            probabilidades.append(100 * peso/pesoAcumulado)\n",
    "        for seguidor in listaSeguidores:\n",
    "            seguidor.eligeReclutador(listaReclutadores, probabilidades)    \n",
    "    mejorSolucionGlobal = sorted(colonia)[0]\n",
    "    tiempoFin = time.time()\n",
    "    tiempo = tiempoFin - tiempoInicio\n",
    "    return colonia, tiempo"
   ]
  },
  {
   "cell_type": "code",
   "execution_count": null,
   "metadata": {},
   "outputs": [],
   "source": [
    "def BeeSystem(entorno, numAbejas):\n",
    "    tiempoInicio = time.time()\n",
    "    mejorSolucionGlobal = None\n",
    "    colonia = crearColonia(entorno, numAbejas)\n",
    "    for k in range(entorno.numVertices):\n",
    "        paso(entorno, colonia)\n",
    "        colonia = sorted(colonia)\n",
    "        listaPesos = [1/abeja.distancia for abeja in colonia]\n",
    "        pesoAcumulado = sum(listaPesos)\n",
    "        probabilidades = []\n",
    "        for peso in listaPesos:\n",
    "            # Calculamos las probabilidades en %\n",
    "            probabilidades.append(100 * peso/pesoAcumulado)\n",
    "        i = 0\n",
    "        for abeja in colonia:\n",
    "            abeja.calculaSeguir(colonia, probabilidades, i)\n",
    "            i = i + 1\n",
    "        listaReclutadores = [abeja for abeja in colonia if (not abeja.seguidor)]\n",
    "        listaSeguidores = [abeja for abeja in colonia if abeja.seguidor]\n",
    "        listaPesos = [1/reclutador.distancia for reclutador in listaReclutadores]\n",
    "        pesoAcumulado = sum(listaPesos)\n",
    "        probabilidades = []\n",
    "        for peso in listaPesos:\n",
    "            # Calculamos las probabilidades en %\n",
    "            probabilidades.append(100 * peso/pesoAcumulado)\n",
    "        for seguidor in listaSeguidores:\n",
    "            seguidor.eligeReclutador(listaReclutadores, probabilidades)    \n",
    "    mejorSolucionGlobal = sorted(colonia)[0]\n",
    "    tiempoFin = time.time()\n",
    "    tiempo = tiempoFin - tiempoInicio\n",
    "    return colonia, tiempo"
   ]
  },
  {
   "cell_type": "markdown",
   "metadata": {},
   "source": [
    "## Pruebas"
   ]
  },
  {
   "cell_type": "code",
   "execution_count": null,
   "metadata": {},
   "outputs": [],
   "source": [
    "# Cambiar por el nombre del problema deseado\n",
    "nombreProblema = 'eil51'\n",
    "matrizAdy = cargaCasoTsplib('ALL_tsp/' + nombreProblema + '.tsp')\n",
    "# Alterar este range si se quiere ejecutar pruebas con varios números de individuos.\n",
    "# Por defecto, se empieza por un número de individuos igual al número de ciudades,\n",
    "# y se va aumentando de 5 en 5 hasta 5 veces esa cifra.\n",
    "for numAbejas in range(len(matrizAdy), 5 * len(matrizAdy), 5):\n",
    "    # 20 ejecuciones con cada nº de abejas\n",
    "    ejecuciones = []\n",
    "    for i in range(20):\n",
    "        entorno = Entorno(matrizAdy)\n",
    "        soluciones, tiempo = BeeSystem(entorno, numAbejas)\n",
    "        ejecuciones.append((tiempo, soluciones))\n",
    "    guardarResultados(ejecuciones, nombreProblema, 'BeeSystem', numAbejas)"
   ]
  }
 ],
 "metadata": {
  "kernelspec": {
   "display_name": "Python 3 (ipykernel)",
   "language": "python",
   "name": "python3"
  },
  "language_info": {
   "codemirror_mode": {
    "name": "ipython",
    "version": 3
   },
   "file_extension": ".py",
   "mimetype": "text/x-python",
   "name": "python",
   "nbconvert_exporter": "python",
   "pygments_lexer": "ipython3",
   "version": "3.9.7"
  }
 },
 "nbformat": 4,
 "nbformat_minor": 2
}
