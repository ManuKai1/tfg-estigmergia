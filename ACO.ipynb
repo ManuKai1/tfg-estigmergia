{
 "cells": [
  {
   "cell_type": "markdown",
   "metadata": {},
   "source": [
    "# Ant Colony Optimization"
   ]
  },
  {
   "cell_type": "markdown",
   "metadata": {},
   "source": [
    "Cada hormiga representa una solución al problema.\n",
    "Entorno: grafo del problema del viajante simétrico a resolver.\n",
    "Se representa como una matriz de adyacencia en la que el valor de la posición [i][j] es la distancia entre las ciudades i y j."
   ]
  },
  {
   "cell_type": "code",
   "execution_count": null,
   "metadata": {},
   "outputs": [],
   "source": [
    "import random\n",
    "import copy\n",
    "import json\n",
    "import time\n",
    "import tsplib95"
   ]
  },
  {
   "cell_type": "markdown",
   "metadata": {},
   "source": [
    "### Función cargaCasoDePrueba\n",
    "\n",
    "Lee un caso de prueba del fichero con nombre _nombreFichero_ y devuelve la matriz de adyacencia correspondiente."
   ]
  },
  {
   "cell_type": "code",
   "execution_count": null,
   "metadata": {},
   "outputs": [],
   "source": [
    "def cargaCasoDePrueba(nombreFichero):\n",
    "    with open(nombreFichero, 'r') as archivo:\n",
    "        matrizAdy = json.loads(archivo.read())\n",
    "    return matrizAdy"
   ]
  },
  {
   "cell_type": "markdown",
   "metadata": {},
   "source": [
    "### Función tsplibAMatrizAdyacencia\n",
    "\n",
    "Convierte el problema dado del formato tsplib a la matriz de adyacencia correspondiente."
   ]
  },
  {
   "cell_type": "code",
   "execution_count": null,
   "metadata": {},
   "outputs": [],
   "source": [
    "def tsplibAMatrizAdyacencia(problema):\n",
    "    matrizAdy = [[]] * problema.dimension\n",
    "    for i in range(problema.dimension):\n",
    "        matrizAdy[i] = [problema.get_weight(i+1,j+1) for j in range(problema.dimension)]\n",
    "    return matrizAdy"
   ]
  },
  {
   "cell_type": "markdown",
   "metadata": {},
   "source": [
    "### Función cargaCasoTsplib\n",
    "\n",
    "Carga un problema de la tsplib y lo devuelve ya en forma de matriz de adyacencia."
   ]
  },
  {
   "cell_type": "code",
   "execution_count": null,
   "metadata": {},
   "outputs": [],
   "source": [
    "def cargaCasoTsplib(nombreFichero):\n",
    "    problema = tsplib95.load(nombreFichero)\n",
    "    return tsplibAMatrizAdyacencia(problema)"
   ]
  },
  {
   "cell_type": "markdown",
   "metadata": {},
   "source": [
    "### Función guardarResultados\n",
    "\n",
    "Dadas las ejecuciones de un algoritmo, las guarda en un fichero formateado adecuadamente para posteriormente cargarlas en el notebook Graficas.ipynb"
   ]
  },
  {
   "cell_type": "code",
   "execution_count": null,
   "metadata": {},
   "outputs": [],
   "source": [
    "def guardarResultados(ejecuciones, problema, algoritmo, num):\n",
    "    nombreFichero = problema + \"_\" + algoritmo + \"_\" + str(num) + \".txt\"\n",
    "    with open(nombreFichero, 'a') as archivo:\n",
    "        for ejecucion in ejecuciones:\n",
    "            archivo.write(str(ejecucion[0]) + '\\n')\n",
    "            for hormiga in ejecucion[1]:\n",
    "                archivo.write(str(hormiga))\n",
    "            archivo.write('FIN\\n')"
   ]
  },
  {
   "cell_type": "markdown",
   "metadata": {},
   "source": [
    "## Arista\n",
    "La clase Arista nos permite representar un camino entre dos ciudades concretas. Ayuda a guardar el valor de feromona que hay en cada momento en el camino."
   ]
  },
  {
   "cell_type": "code",
   "execution_count": null,
   "metadata": {},
   "outputs": [],
   "source": [
    "class Arista:\n",
    "    def __init__(self, desde, hasta, distancia=None, feromonaInicial=None):\n",
    "        self.desde = desde\n",
    "        self.hasta = hasta\n",
    "        self.distancia = 1 if distancia is None else distancia\n",
    "        self.feromonaInicial = 0.1 if feromonaInicial is None else feromonaInicial\n",
    "        self.feromona = feromonaInicial"
   ]
  },
  {
   "cell_type": "markdown",
   "metadata": {},
   "source": [
    "## Entorno\n",
    "La clase Entorno representa una instancia del problema del viajante a resolver. Contiene una serie determinada de Aristas que crean el grafo a resolver."
   ]
  },
  {
   "cell_type": "code",
   "execution_count": null,
   "metadata": {},
   "outputs": [],
   "source": [
    "class Entorno:\n",
    "    def __init__(self, matrizAdy, feromonaInicial=None):\n",
    "        self.conjuntoAristas = set()\n",
    "        self.aristas = self.creaAristas(matrizAdy, feromonaInicial)\n",
    "        self.numVertices = len(matrizAdy)\n",
    "        \n",
    "    def creaAristas(self, matrizAdy, feromonaInicial=None):\n",
    "        aristas = {}\n",
    "        for i in range(len(matrizAdy)):\n",
    "            for j in range(i):\n",
    "                # En MMAS el valor inicial de la feromona es siempre el máximo permitido.\n",
    "                arista = Arista(i, j, matrizAdy[i][j],\n",
    "                                feromonaInicial = feromonaInicial)\n",
    "                aristas[i,j] = arista\n",
    "                aristas[j,i] = arista\n",
    "                self.conjuntoAristas.add(arista)\n",
    "        return aristas\n",
    "    \n",
    "    def resetearFeromonas(self):\n",
    "        for arista in self.conjuntoAristas:\n",
    "            arista.feromona = arista.feromonaInicial"
   ]
  },
  {
   "cell_type": "markdown",
   "metadata": {},
   "source": [
    "## Hormiga\n",
    "La clase Hormiga representa una solución concreta al problema planteado en el entorno.\n",
    "Realiza un trayecto concreto entre las ciudades eligiendo sus movimientos en base a las feromonas de las aristas. Posee algunos métodos distintos según la versión de ACO que se esté usando."
   ]
  },
  {
   "cell_type": "code",
   "execution_count": null,
   "metadata": {},
   "outputs": [],
   "source": [
    "class Hormiga:\n",
    "    # Alfa: importancia dada a las feromonas\n",
    "    # Beta: importancia dada a la distancia\n",
    "    def __init__(self):\n",
    "        self.nodoActual = None\n",
    "        self.inicio = None\n",
    "        self.entorno = None\n",
    "        self.visitados = []\n",
    "        self.porVisitar = []\n",
    "        self.trayecto = []\n",
    "        self.distancia = 0\n",
    "        \n",
    "    def __str__(self):\n",
    "        resultado = str(self.distancia) + '\\n' + str(self.visitados) + '\\n'\n",
    "        return resultado\n",
    "    \n",
    "    def __repr__(self):\n",
    "        resultado = str(self.distancia) + '\\n' + str(self.visitados) + '\\n'\n",
    "        return resultado\n",
    "        \n",
    "    # Nos va a interesar poder ordenar las hormigas según la distancia de su solución\n",
    "    # para poder ordenarlas y quedarnos con la mejor.\n",
    "    def __eq__(self,other):\n",
    "        return self.distancia == other.distancia\n",
    "    \n",
    "    def __lt__(self,other):\n",
    "        return self.distancia < other.distancia\n",
    "        \n",
    "    def inicializar(self, entorno, inicio):\n",
    "        self.entorno = entorno\n",
    "        self.inicio = inicio\n",
    "        self.nodoActual = inicio\n",
    "        self.visitados = [inicio]\n",
    "        self.porVisitar = [v for v in range(entorno.numVertices) if v != inicio]\n",
    "        self.trayecto = []\n",
    "        self.distancia = 0\n",
    "        return self\n",
    "    \n",
    "    # Elige un movimiento según Ant System y lo efectúa devolviendo la arista elegida.\n",
    "    def movimientoAS(self):\n",
    "        eleccion = self.elegirMovimientoAS()\n",
    "        return self.realizaMovimiento(eleccion)\n",
    "    \n",
    "    # Elige el movimiento según Ant System. Devuelve la arista a usar.\n",
    "    def elegirMovimientoAS(self):\n",
    "        # Sólo queda volver al nodo original\n",
    "        if not self.porVisitar:\n",
    "            return self.entorno.aristas[self.nodoActual, self.inicio]\n",
    "        # Sólo queda un nodo por visitar\n",
    "        if len(self.porVisitar) == 1:\n",
    "            return self.entorno.aristas[self.nodoActual, self.porVisitar[0]]\n",
    "        listaAristas = []\n",
    "        for nodo in self.porVisitar:\n",
    "            listaAristas.append(self.entorno.aristas[self.nodoActual, nodo])\n",
    "        listaPesos = [self.calculaPesoAS(arista) for arista in listaAristas]\n",
    "        pesoAcumulado = sum(listaPesos)\n",
    "        if(pesoAcumulado == 0):\n",
    "            return listaAristas[0]\n",
    "        probabilidades = []\n",
    "        for peso in listaPesos:\n",
    "            # Calculamos las probabilidades en %\n",
    "            probabilidades.append(100 * peso/pesoAcumulado)\n",
    "        return random.choices(listaAristas, weights=probabilidades)[0]\n",
    "    \n",
    "    # Elige un movimiento según Ant Colony System y lo efectúa devolviendo la arista elegida.\n",
    "    def movimientoACS(self):\n",
    "        eleccion = self.elegirMovimientoACS()\n",
    "        return self.realizaMovimiento(eleccion)\n",
    "    \n",
    "    # Elige el movimiento según Ant Colony System. Devuelve la arista a usar.\n",
    "    def elegirMovimientoACS(self):\n",
    "        # Sólo queda volver al nodo original\n",
    "        if not self.porVisitar:\n",
    "            return self.entorno.aristas[self.nodoActual, self.inicio]\n",
    "        # Sólo queda un nodo por visitar\n",
    "        if len(self.porVisitar) == 1:\n",
    "            return self.entorno.aristas[self.nodoActual, self.porVisitar[0]]\n",
    "        # q número sacado de una distribución uniforme entre 0 y 1\n",
    "        q = random.uniform()\n",
    "        if q <= q0:\n",
    "            # Elegimos según ACS\n",
    "            listaAristas = []\n",
    "            for nodo in self.porVisitar:\n",
    "                listaAristas.append(self.entorno.aristas[self.nodoActual, nodo])\n",
    "            aristaMax = max([calculapesoACS(arista) for arista in listaAristas])\n",
    "            return aristaMax\n",
    "        else:\n",
    "            # Elegimos igual que en Ant System\n",
    "            return elegirMovimientoAS(self)\n",
    "        \n",
    "    # A mayor peso, mayor probabilidad de elección de la arista.\n",
    "    def calculaPesoAS(self, arista):\n",
    "        tau = arista.feromona\n",
    "        eta = 1/arista.distancia\n",
    "        return (tau ** alfa) * (eta ** beta)\n",
    "    \n",
    "    def calculaPesoACS(self, arista):\n",
    "        tau = arista.feromona\n",
    "        eta = 1/arista.distancia\n",
    "        return tau * (eta ** beta)\n",
    "    \n",
    "    def realizaMovimiento(self, arista):\n",
    "        hasta = arista.hasta if self.nodoActual == arista.desde else arista.desde\n",
    "        if  not (hasta == self.inicio):\n",
    "            self.visitados.append(hasta)\n",
    "            self.porVisitar.remove(hasta)\n",
    "        self.distancia += arista.distancia\n",
    "        self.nodoActual = hasta\n",
    "        return arista\n",
    "        "
   ]
  },
  {
   "cell_type": "markdown",
   "metadata": {},
   "source": [
    "## Funciones\n",
    "\n",
    "### Función crearColonia\n",
    "\n",
    "Esta función genera una nueva colonia de hormigas y las inicializa en posiciones aleatorias del grafo. Requiere que hayamos definido previamente las variables _alfa_ y _beta_ en el notebook."
   ]
  },
  {
   "cell_type": "code",
   "execution_count": null,
   "metadata": {},
   "outputs": [],
   "source": [
    "def crearColonia(entorno, numHormigas):\n",
    "    colonia = []\n",
    "    for i in range(numHormigas):\n",
    "            nuevaHormiga = Hormiga().inicializar(entorno, random.randrange(entorno.numVertices))\n",
    "            colonia.append(nuevaHormiga)\n",
    "    return colonia"
   ]
  },
  {
   "cell_type": "markdown",
   "metadata": {},
   "source": [
    "### Función reiniciarColonia\n",
    "\n",
    "Inicializa todas las hormigas de la colonia y les asigna un nuevo punto de inicio aleatorio."
   ]
  },
  {
   "cell_type": "code",
   "execution_count": null,
   "metadata": {},
   "outputs": [],
   "source": [
    "def reiniciarColonia(colonia):\n",
    "    for hormiga in colonia:\n",
    "        hormiga.inicializar(hormiga.entorno, random.randrange(hormiga.entorno.numVertices))"
   ]
  },
  {
   "cell_type": "markdown",
   "metadata": {},
   "source": [
    "### Función encontrarSolucionesAS\n",
    "\n",
    "Realiza todos los movimientos de todas las hormigas según lo indicado en Ant System para que cada hormiga de toda la colonia tenga una solución completa."
   ]
  },
  {
   "cell_type": "code",
   "execution_count": null,
   "metadata": {},
   "outputs": [],
   "source": [
    "# Dos bucles: ya que todas las hormigas tienen que moverse por los nodos hasta haberlos visitado todos.\n",
    "def encontrarSolucionesAS(entorno, colonia):\n",
    "    for i in range(entorno.numVertices):\n",
    "        for hormiga in colonia:\n",
    "            arista = hormiga.movimientoAS()\n",
    "            hormiga.trayecto.append(arista)\n",
    "    colonia = sorted(colonia)\n",
    "    return colonia[0]"
   ]
  },
  {
   "cell_type": "markdown",
   "metadata": {},
   "source": [
    "### Función actualizarAristaLocal\n",
    "\n",
    "Utilizada en Ant Colony System para decaer la feromona de la arista tras cada paso."
   ]
  },
  {
   "cell_type": "code",
   "execution_count": null,
   "metadata": {},
   "outputs": [],
   "source": [
    "def actualizarAristaLocal(arista):\n",
    "    arista.feromona = (1-phi) * arista.feromona + phi * arista.feromonaInicial"
   ]
  },
  {
   "cell_type": "markdown",
   "metadata": {},
   "source": [
    "### Función encontrarSolucionesACS\n",
    "\n",
    "Realiza todos los movimientos de todas las hormigas según lo indicado en Ant Colony System para que cada hormiga de toda la colonia tenga una solución completa. Realiza la actualización local de las aristas, que hace que decaiga la feromona de cada arista tras cada paso de construcción."
   ]
  },
  {
   "cell_type": "code",
   "execution_count": null,
   "metadata": {},
   "outputs": [],
   "source": [
    "# Dos bucles: ya que todas las hormigas tienen que moverse por los nodos hasta haberlos visitado todos.\n",
    "def encontrarSolucionesACS(entorno, colonia):\n",
    "    for i in range(entorno.numVertices):\n",
    "        for hormiga in colonia:\n",
    "            arista = hormiga.movimientoAS()\n",
    "            hormiga.trayecto.append(arista)\n",
    "            actualizarAristaLocal(arista)\n",
    "    colonia = sorted(colonia)\n",
    "    return colonia[0]"
   ]
  },
  {
   "cell_type": "markdown",
   "metadata": {},
   "source": [
    "### Función actualizarGlobalAS\n",
    "\n",
    "Actualiza todas las aristas del entorno según lo indicado en AntSystem; decayendo su feromona según el valor rho predefinido en el notebook y aumentándola según las hormigas que hayan pasado por cada arista y la longitud final del camino de dicha hormiga."
   ]
  },
  {
   "cell_type": "code",
   "execution_count": null,
   "metadata": {},
   "outputs": [],
   "source": [
    "def actualizarGlobalAS(entorno, colonia):\n",
    "    # Decaer feromona\n",
    "    for arista in entorno.conjuntoAristas:\n",
    "        arista.feromona = (1 - rho) * arista.feromona\n",
    "    # Aumentar feromona según uso por parte de las hormigas.\n",
    "    # En AS la fitness function es 1/distancia de la solución\n",
    "    for hormiga in colonia:\n",
    "        for arista in hormiga.trayecto:\n",
    "            arista.feromona += 1/hormiga.distancia"
   ]
  },
  {
   "cell_type": "markdown",
   "metadata": {},
   "source": [
    "### Función actualizarMejorACS\n",
    "\n",
    "Decae todas las aristas pero actualiza sólo las aristas de la mejor solución encontrada, según se requiere en Ant Colony System."
   ]
  },
  {
   "cell_type": "code",
   "execution_count": null,
   "metadata": {},
   "outputs": [],
   "source": [
    "def actualizarMejorACS(hormiga):\n",
    "    # Decaer feromona\n",
    "    for arista in entorno.conjuntoAristas:\n",
    "        arista.feromona = (1 - rho) * arista.feromona\n",
    "    # Aumentar feromona de las aristas de la mejor solución\n",
    "    for arista in hormiga.trayecto:\n",
    "        arista.feromona += rho * 1/hormiga.distancia"
   ]
  },
  {
   "cell_type": "markdown",
   "metadata": {},
   "source": [
    "### Función actualizarMejorMMAS\n",
    "\n",
    "En MAX-MIN Ant System de nuevo sólo actualiza la mejor hormiga, pero lo hace de manera distinta a ACS, por eso necesitamos una función nueva. Además nos aseguramos de mantener las feromonas entre los límites permitidos."
   ]
  },
  {
   "cell_type": "code",
   "execution_count": null,
   "metadata": {},
   "outputs": [],
   "source": [
    "def actualizarMejorMMAS(hormiga):\n",
    "    # Decaer feromona\n",
    "    for arista in entorno.conjuntoAristas:\n",
    "        arista.feromona = (1 - rho) * arista.feromona\n",
    "        arista.feromona = max(arista.feromona, minFeromona)\n",
    "    # Aumentar feromona de las aristas de la mejor solución\n",
    "    for arista in hormiga.trayecto:\n",
    "        arista.feromona += 1/hormiga.distancia\n",
    "        arista.feromona = max(arista.feromona, minFeromona)\n",
    "        arista.feromona = min(arista.feromona, maxFeromona)"
   ]
  },
  {
   "cell_type": "markdown",
   "metadata": {},
   "source": [
    "### Funciones AntSystem\n",
    "\n",
    "Dado un entorno, un número de iteraciones, y un número de hormigas, aplica la metaheurística del Ant System para intentar obtener una buena solución al problema del TSP. Devuelve la mejor solución encontrada tras todas las iteraciones. Cada una usa una condición de parada diferente."
   ]
  },
  {
   "cell_type": "code",
   "execution_count": null,
   "metadata": {},
   "outputs": [],
   "source": [
    "def AntSystemIteraciones(entorno, numIteraciones, numHormigas):\n",
    "    entorno.resetearFeromonas()\n",
    "    mejorSolucionGlobal = None\n",
    "    colonia = crearColonia(entorno, numHormigas)\n",
    "    for i in range(numIteraciones):\n",
    "        reiniciarColonia(colonia)\n",
    "        mejorSolucionActual = encontrarSolucionesAS(entorno, colonia)\n",
    "        if mejorSolucionGlobal is None or mejorSolucionActual < mejorSolucionGlobal:\n",
    "            mejorSolucionGlobal = copy.deepcopy(mejorSolucionActual)\n",
    "        actualizarGlobalAS(entorno, colonia)\n",
    "    return mejorSolucionGlobal"
   ]
  },
  {
   "cell_type": "code",
   "execution_count": null,
   "metadata": {},
   "outputs": [],
   "source": [
    "def AntSystemTiempo(entorno, numHormigas):\n",
    "    tiempoInicio = time.time()\n",
    "    listaSoluciones = []\n",
    "    entorno.resetearFeromonas()\n",
    "    mejorSolucionGlobal = None\n",
    "    colonia = crearColonia(entorno, numHormigas)\n",
    "    # Paramos el algoritmo tras 300 segundos (5 minutos)\n",
    "    while time.time() - tiempoInicio < 300:\n",
    "        reiniciarColonia(colonia)\n",
    "        mejorSolucionActual = encontrarSolucionesAS(entorno, colonia)\n",
    "        if mejorSolucionGlobal is None or mejorSolucionActual < mejorSolucionGlobal:\n",
    "            mejorSolucionGlobal = copy.deepcopy(mejorSolucionActual)\n",
    "        listaSoluciones.append(mejorSolucionGlobal)\n",
    "        actualizarGlobalAS(entorno, colonia)\n",
    "    tiempoFin = time.time()\n",
    "    tiempo = tiempoFin - tiempoInicio\n",
    "    return listaSoluciones, tiempo"
   ]
  },
  {
   "cell_type": "code",
   "execution_count": null,
   "metadata": {},
   "outputs": [],
   "source": [
    "def AntSystem(entorno, numHormigas):\n",
    "    tiempoInicio = time.time()\n",
    "    # Si no se mejora la solución después de maxSeguidas iteraciones, se para el algoritmo.\n",
    "    seguidas = 0\n",
    "    maxSeguidas = 10000\n",
    "    listaSoluciones = []\n",
    "    entorno.resetearFeromonas()\n",
    "    mejorSolucionGlobal = None\n",
    "    colonia = crearColonia(entorno, numHormigas)\n",
    "    while seguidas < maxSeguidas:\n",
    "        reiniciarColonia(colonia)\n",
    "        mejorSolucionActual = encontrarSolucionesAS(entorno, colonia)\n",
    "        if mejorSolucionGlobal is None or mejorSolucionActual < mejorSolucionGlobal:\n",
    "            seguidas = 0\n",
    "            mejorSolucionGlobal = copy.deepcopy(mejorSolucionActual)\n",
    "        else:\n",
    "            seguidas += 1\n",
    "        listaSoluciones.append(mejorSolucionGlobal)\n",
    "        actualizarGlobalAS(entorno, colonia)\n",
    "    tiempoFin = time.time()\n",
    "    tiempo = tiempoFin - tiempoInicio\n",
    "    return listaSoluciones, tiempo"
   ]
  },
  {
   "cell_type": "markdown",
   "metadata": {},
   "source": [
    "### Funciones AntColonySystem\n",
    "\n",
    "Dado un entorno, un número de iteraciones, y un número de hormigas, aplica la metaheurística del Ant Colony System para intentar obtener una buena solución al problema del TSP. Devuelve la mejor solución encontrada tras todas las iteraciones. Cada una usa una condición de parada diferente."
   ]
  },
  {
   "cell_type": "code",
   "execution_count": null,
   "metadata": {},
   "outputs": [],
   "source": [
    "def AntColonySystemIteraciones(entorno, numIteraciones, numHormigas):\n",
    "    entorno.resetearFeromonas()\n",
    "    mejorSolucionGlobal = None\n",
    "    colonia = crearColonia(entorno, numHormigas)\n",
    "    for i in range(numIteraciones):\n",
    "        reiniciarColonia(colonia)\n",
    "        mejorSolucionActual = encontrarSolucionesACS(entorno, colonia)\n",
    "        if mejorSolucionGlobal is None or mejorSolucionActual < mejorSolucionGlobal:\n",
    "            mejorSolucionGlobal = copy.deepcopy(mejorSolucionActual)\n",
    "        actualizarMejorACS(mejorSolucionGlobal)\n",
    "    return mejorSolucionGlobal"
   ]
  },
  {
   "cell_type": "code",
   "execution_count": null,
   "metadata": {},
   "outputs": [],
   "source": [
    "def AntColonySystemTiempo(entorno, numHormigas):\n",
    "    tiempoInicio = time.time()\n",
    "    listaSoluciones = []\n",
    "    entorno.resetearFeromonas()\n",
    "    mejorSolucionGlobal = None\n",
    "    colonia = crearColonia(entorno, numHormigas)\n",
    "    # Paramos el algoritmo tras 300 segundos (5 minutos)\n",
    "    while time.time() - tiempoInicio < 300:\n",
    "        reiniciarColonia(colonia)\n",
    "        mejorSolucionActual = encontrarSolucionesACS(entorno, colonia)\n",
    "        if mejorSolucionGlobal is None or mejorSolucionActual < mejorSolucionGlobal:\n",
    "            mejorSolucionGlobal = copy.deepcopy(mejorSolucionActual)\n",
    "        listaSoluciones.append(mejorSolucionGlobal)\n",
    "        actualizarMejorACS(mejorSolucionGlobal)\n",
    "    tiempoFin = time.time()\n",
    "    tiempo = tiempoFin - tiempoInicio\n",
    "    return listaSoluciones, tiempo"
   ]
  },
  {
   "cell_type": "code",
   "execution_count": null,
   "metadata": {},
   "outputs": [],
   "source": [
    "def AntColonySystem(entorno, numHormigas):\n",
    "    tiempoInicio = time.time()\n",
    "    # Si no se mejora la solución después de maxSeguidas iteraciones, se para el algoritmo.\n",
    "    seguidas = 0\n",
    "    maxSeguidas = 10000\n",
    "    listaSoluciones = []\n",
    "    entorno.resetearFeromonas()\n",
    "    mejorSolucionGlobal = None\n",
    "    colonia = crearColonia(entorno, numHormigas)\n",
    "    while seguidas < maxSeguidas:\n",
    "        reiniciarColonia(colonia)\n",
    "        mejorSolucionActual = encontrarSolucionesACS(entorno, colonia)\n",
    "        if mejorSolucionGlobal is None or mejorSolucionActual < mejorSolucionGlobal:\n",
    "            seguidas = 0\n",
    "            mejorSolucionGlobal = copy.deepcopy(mejorSolucionActual)\n",
    "        else:\n",
    "            seguidas += 1\n",
    "        listaSoluciones.append(mejorSolucionGlobal)\n",
    "        actualizarMejorACS(mejorSolucionGlobal)\n",
    "    tiempoFin = time.time()\n",
    "    tiempo = tiempoFin - tiempoInicio\n",
    "    return listaSoluciones, tiempo"
   ]
  },
  {
   "cell_type": "markdown",
   "metadata": {},
   "source": [
    "### Funciones MaxMinAntSystem\n",
    "\n",
    "Dado un entorno, un número de iteraciones, y un número de hormigas, aplica la metaheurística del MAX-MIN Ant System para intentar obtener una buena solución al problema del TSP. Devuelve la mejor solución encontrada tras todas las iteraciones. Cada una usa una condición de parada diferente."
   ]
  },
  {
   "cell_type": "code",
   "execution_count": null,
   "metadata": {},
   "outputs": [],
   "source": [
    "def MaxMinAntSystemIteraciones(entorno, numIteraciones, numHormigas):\n",
    "    entorno.resetearFeromonas()\n",
    "    mejorSolucionGlobal = None\n",
    "    colonia = crearColonia(entorno, numHormigas)\n",
    "    for i in range(numIteraciones):\n",
    "        reiniciarColonia(colonia)\n",
    "        mejorSolucionActual = encontrarSolucionesAS(entorno, colonia)\n",
    "        if mejorSolucionGlobal is None or mejorSolucionActual < mejorSolucionGlobal:\n",
    "            mejorSolucionGlobal = copy.deepcopy(mejorSolucionActual)\n",
    "        actualizarMejorMMAS(mejorSolucionGlobal)\n",
    "    return mejorSolucionGlobal"
   ]
  },
  {
   "cell_type": "code",
   "execution_count": null,
   "metadata": {},
   "outputs": [],
   "source": [
    "def MaxMinAntSystemTiempo(entorno, numHormigas):\n",
    "    tiempoInicio = time.time()\n",
    "    listaSoluciones = []\n",
    "    entorno.resetearFeromonas()\n",
    "    mejorSolucionGlobal = None\n",
    "    colonia = crearColonia(entorno, numHormigas)\n",
    "    # Paramos el algoritmo tras 300 segundos (5 minutos)\n",
    "    while time.time() - tiempoInicio < 300:\n",
    "        reiniciarColonia(colonia)\n",
    "        mejorSolucionActual = encontrarSolucionesAS(entorno, colonia)\n",
    "        if mejorSolucionGlobal is None or mejorSolucionActual < mejorSolucionGlobal:\n",
    "            mejorSolucionGlobal = copy.deepcopy(mejorSolucionActual)\n",
    "        listaSoluciones.append(mejorSolucionGlobal)\n",
    "        actualizarMejorMMAS(mejorSolucionGlobal)\n",
    "    tiempoFin = time.time()\n",
    "    tiempo = tiempoFin - tiempoInicio\n",
    "    return listaSoluciones, tiempo"
   ]
  },
  {
   "cell_type": "code",
   "execution_count": null,
   "metadata": {},
   "outputs": [],
   "source": [
    "def MaxMinAntSystem(entorno, numHormigas):\n",
    "    tiempoInicio = time.time()\n",
    "    # Si no se mejora la solución después de maxSeguidas iteraciones, se para el algoritmo.\n",
    "    seguidas = 0\n",
    "    maxSeguidas = 10000\n",
    "    listaSoluciones = []\n",
    "    entorno.resetearFeromonas()\n",
    "    mejorSolucionGlobal = None\n",
    "    colonia = crearColonia(entorno, numHormigas)\n",
    "    while seguidas < maxSeguidas:\n",
    "        reiniciarColonia(colonia)\n",
    "        mejorSolucionActual = encontrarSolucionesAS(entorno, colonia)\n",
    "        if mejorSolucionGlobal is None or mejorSolucionActual < mejorSolucionGlobal:\n",
    "            seguidas = 0\n",
    "            mejorSolucionGlobal = copy.deepcopy(mejorSolucionActual)\n",
    "        else:\n",
    "            seguidas += 1\n",
    "        listaSoluciones.append(mejorSolucionGlobal)\n",
    "        actualizarMejorMMAS(mejorSolucionGlobal)\n",
    "    tiempoFin = time.time()\n",
    "    tiempo = tiempoFin - tiempoInicio\n",
    "    return listaSoluciones, tiempo"
   ]
  },
  {
   "cell_type": "markdown",
   "metadata": {},
   "source": [
    "## Pruebas"
   ]
  },
  {
   "cell_type": "markdown",
   "metadata": {},
   "source": [
    "#### Definiciones de cada parámetro:\n",
    "\n",
    "alfa = importancia dada a las feromonas\n",
    "\n",
    "beta = importancia dada a la distancia\n",
    "\n",
    "rho = tasa de evaporación\n",
    "\n",
    "q0 = parámetro límite de la variable q en Ant Colony System\n",
    "\n",
    "phi = coeficiente de decadencia de feromona\n",
    "\n",
    "minFeromona: mínimo nivel de feromona permitido para MAX-MIN Ant System\n",
    "\n",
    "maxFeromona: máximo nivel de feromona permitido para MAX-MIN Ant System\n",
    "\n",
    "#### Parámetros requeridos\n",
    "\n",
    "Parámetros requeridos por AntSystem: alfa, beta, rho.\n",
    "\n",
    "Parámetros requeridos por AntColonySystem: beta, rho, q0, phi\n",
    "\n",
    "Parámetros requeridos por MaxMinAntSystem: alfa, beta, rho, minFeromona, maxFeromona"
   ]
  },
  {
   "cell_type": "code",
   "execution_count": null,
   "metadata": {},
   "outputs": [],
   "source": [
    "alfa = 1\n",
    "beta = 4\n",
    "rho = 0.2\n",
    "q0 = 0.7\n",
    "phi = 0.2\n",
    "minFeromona = 0\n",
    "maxFeromona = 0.1"
   ]
  },
  {
   "cell_type": "markdown",
   "metadata": {},
   "source": [
    "#### Pruebas Ant System"
   ]
  },
  {
   "cell_type": "code",
   "execution_count": null,
   "metadata": {},
   "outputs": [],
   "source": [
    "# Cambiar por el nombre del problema deseado\n",
    "nombreProblema = 'eil51'\n",
    "matrizAdy = cargaCasoTsplib('ALL_tsp/' + nombreProblema + '.tsp')\n",
    "# Alterar este range si se quiere ejecutar pruebas con varios números de individuos.\n",
    "# Por defecto, se empieza por un número de individuos igual al número de ciudades,\n",
    "# y se va aumentando de 5 en 5 hasta 5 veces esa cifra.\n",
    "for numHormigas in range(len(matrizAdy), 5 * len(matrizAdy), 5):\n",
    "    # 20 ejecuciones con cada nº de hormigas\n",
    "    ejecuciones = []\n",
    "    for i in range(20):\n",
    "        entorno = Entorno(matrizAdy)\n",
    "        soluciones, tiempo = AntSystem(entorno, numHormigas)\n",
    "        ejecuciones.append((tiempo, soluciones))\n",
    "    guardarResultados(ejecuciones, nombreProblema, 'AntSystem', numHormigas)"
   ]
  },
  {
   "cell_type": "markdown",
   "metadata": {},
   "source": [
    "#### Pruebas Ant Colony System"
   ]
  },
  {
   "cell_type": "code",
   "execution_count": null,
   "metadata": {},
   "outputs": [],
   "source": [
    "# Cambiar por el nombre del problema deseado\n",
    "nombreProblema = 'eil51'\n",
    "matrizAdy = cargaCasoTsplib('ALL_tsp/' + nombreProblema + '.tsp')\n",
    "# Alterar este range si se quiere ejecutar pruebas con varios números de individuos.\n",
    "# Por defecto, se empieza por un número de individuos igual al número de ciudades,\n",
    "# y se va aumentando de 5 en 5 hasta 5 veces esa cifra.\n",
    "for numHormigas in range(len(matrizAdy), 5 * len(matrizAdy), 5):\n",
    "    # 20 ejecuciones con cada nº de hormigas\n",
    "    ejecuciones = []\n",
    "    for i in range(20):\n",
    "        entorno = Entorno(matrizAdy)\n",
    "        soluciones, tiempo = AntColonySystem(entorno, numHormigas)\n",
    "        ejecuciones.append((tiempo, soluciones))\n",
    "    guardarResultados(ejecuciones, nombreProblema, 'AntColonySystem', numHormigas)"
   ]
  },
  {
   "cell_type": "markdown",
   "metadata": {},
   "source": [
    "#### Pruebas Max Min Ant System"
   ]
  },
  {
   "cell_type": "code",
   "execution_count": null,
   "metadata": {},
   "outputs": [],
   "source": [
    "# Cambiar por el nombre del problema deseado\n",
    "nombreProblema = 'eil51'\n",
    "matrizAdy = cargaCasoTsplib('ALL_tsp/' + nombreProblema + '.tsp')\n",
    "# Cambiar maxFeromona según el problema\n",
    "# Sabemos que la mejor solución encontrada de eil51 es de longitud 426.\n",
    "# Sabemos que la mejor solución encontrada de eil76 es de longitud 538.\n",
    "# Sabemos que la mejor solución encontrada de st70 es de longitud 675.\n",
    "# Sabemos que la mejor solución encontrada de berlin52 es de longitud 7544.\n",
    "# Sabemos que la mejor solución encontrada de pr76 es de longitud 108159.\n",
    "maxFeromona = 1/(rho * 426)\n",
    "# Alterar este range si se quiere ejecutar pruebas con varios números de individuos.\n",
    "# Por defecto, se empieza por un número de individuos igual al número de ciudades,\n",
    "# y se va aumentando de 5 en 5 hasta 5 veces esa cifra.\n",
    "for numHormigas in range(len(matrizAdy), 5 * len(matrizAdy), 5):\n",
    "    # 20 ejecuciones con cada nº de hormigas\n",
    "    ejecuciones = []\n",
    "    for i in range(20):\n",
    "        entorno = Entorno(matrizAdy)\n",
    "        soluciones, tiempo = MaxMinAntSystemo(entorno, numHormigas)\n",
    "        ejecuciones.append((tiempo, soluciones))\n",
    "    guardarResultados(ejecuciones, 'eil51', 'MaxMinAntSystem', numHormigas)"
   ]
  }
 ],
 "metadata": {
  "kernelspec": {
   "display_name": "Python 3 (ipykernel)",
   "language": "python",
   "name": "python3"
  },
  "language_info": {
   "codemirror_mode": {
    "name": "ipython",
    "version": 3
   },
   "file_extension": ".py",
   "mimetype": "text/x-python",
   "name": "python",
   "nbconvert_exporter": "python",
   "pygments_lexer": "ipython3",
   "version": "3.9.7"
  }
 },
 "nbformat": 4,
 "nbformat_minor": 2
}
