{
 "cells": [
  {
   "cell_type": "markdown",
   "metadata": {},
   "source": [
    "# River Flow Dynamics"
   ]
  },
  {
   "cell_type": "markdown",
   "metadata": {},
   "source": [
    "Cada gota representa una solución al problema.\n",
    "Entorno: grafo del problema del viajante simétrico a resolver.\n",
    "Se representa como una matriz de adyacencia en la que el valor de la posición [i][j] es la distancia entre las ciudades i y j."
   ]
  },
  {
   "cell_type": "code",
   "execution_count": null,
   "metadata": {},
   "outputs": [],
   "source": [
    "import random\n",
    "import copy\n",
    "import json\n",
    "import time\n",
    "import tsplib95"
   ]
  },
  {
   "cell_type": "markdown",
   "metadata": {},
   "source": [
    "### Función cargaCasoDePrueba\n",
    "\n",
    "Lee un caso de prueba del fichero con nombre _nombreFichero_ y devuelve la matriz de adyacencia correspondiente."
   ]
  },
  {
   "cell_type": "code",
   "execution_count": null,
   "metadata": {},
   "outputs": [],
   "source": [
    "def cargaCasoDePrueba(nombreFichero):\n",
    "    with open(nombreFichero, 'r') as archivo:\n",
    "        matrizAdy = json.loads(archivo.read())\n",
    "    return matrizAdy"
   ]
  },
  {
   "cell_type": "markdown",
   "metadata": {},
   "source": [
    "### Función tsplibAMatrizAdyacencia\n",
    "\n",
    "Convierte el problema dado del formato tsplib a la matriz de adyacencia correspondiente."
   ]
  },
  {
   "cell_type": "code",
   "execution_count": null,
   "metadata": {},
   "outputs": [],
   "source": [
    "def tsplibAMatrizAdyacencia(problema):\n",
    "    matrizAdy = [[]] * problema.dimension\n",
    "    for i in range(problema.dimension):\n",
    "        matrizAdy[i] = [problema.get_weight(i+1,j+1) for j in range(problema.dimension)]\n",
    "    return matrizAdy"
   ]
  },
  {
   "cell_type": "markdown",
   "metadata": {},
   "source": [
    "### Función cargaCasoTsplib\n",
    "\n",
    "Carga un problema de la tsplib y lo devuelve ya en forma de matriz de adyacencia."
   ]
  },
  {
   "cell_type": "code",
   "execution_count": null,
   "metadata": {},
   "outputs": [],
   "source": [
    "def cargaCasoTsplib(nombreFichero):\n",
    "    problema = tsplib95.load(nombreFichero)\n",
    "    return tsplibAMatrizAdyacencia(problema)"
   ]
  },
  {
   "cell_type": "markdown",
   "metadata": {},
   "source": [
    "### Función guardarResultados\n",
    "\n",
    "Dadas las ejecuciones de un algoritmo, las guarda en un fichero formateado adecuadamente para posteriormente cargarlas en el notebook Graficas.ipynb"
   ]
  },
  {
   "cell_type": "code",
   "execution_count": null,
   "metadata": {},
   "outputs": [],
   "source": [
    "def guardarResultados(ejecuciones, problema, algoritmo, num):\n",
    "    nombreFichero = problema + \"_\" + algoritmo + \"_\" + str(num) + \".txt\"\n",
    "    with open(nombreFichero, 'a') as archivo:\n",
    "        for ejecucion in ejecuciones:\n",
    "            archivo.write(str(ejecucion[0]) + '\\n')\n",
    "            for hormiga in ejecucion[1]:\n",
    "                archivo.write(str(hormiga))\n",
    "            archivo.write('FIN\\n')"
   ]
  },
  {
   "cell_type": "markdown",
   "metadata": {},
   "source": [
    "## Arista\n",
    "La clase Arista nos permite representar un camino entre dos ciudades concretas. Cada arista lleva una altura asociada que actúa como barrera según se propone en la adaptación al TSP del algoritmo de RFD."
   ]
  },
  {
   "cell_type": "code",
   "execution_count": null,
   "metadata": {},
   "outputs": [],
   "source": [
    "class Arista:\n",
    "    def __init__(self, desde, hasta, distancia=None):\n",
    "        self.desde = desde\n",
    "        self.hasta = hasta\n",
    "        self.distancia = 1 if distancia is None else distancia\n",
    "        self.altura = 10000"
   ]
  },
  {
   "cell_type": "markdown",
   "metadata": {},
   "source": [
    "## Entorno\n",
    "La clase Entorno representa una instancia del problema del viajante a resolver. Contiene una serie determinada de Aristas que crean el grafo a resolver. Además también guarda la altura de los nodos en cada momento. El nodo 0 es del que partirán todas nuestras soluciones (recordemos que en el TSP lo importante es el orden en el que se visitan las ciudades y no por cuál se empiece). Por ello, lo trataremos de manera especial como origen y destino a la vez mediante un nodo auxiliar."
   ]
  },
  {
   "cell_type": "code",
   "execution_count": null,
   "metadata": {},
   "outputs": [],
   "source": [
    "class Entorno:\n",
    "    def __init__(self, matrizAdy):\n",
    "        self.conjuntoAristas = set()\n",
    "        self.aristas = self.creaAristas(matrizAdy)\n",
    "        self.numVertices = len(matrizAdy)\n",
    "        # Inicializamos las alturas de los nodos a 10000.\n",
    "        # El nodo de destino adicional se gestionará como un caso aparte\n",
    "        # ya que siempre va a ser el último en visitarse. Tendrá altura 0.\n",
    "        self.alturas = [10000 for i in range(self.numVertices)]\n",
    "        # Probabilidad de que una gota suba una arista a mayor altura.\n",
    "        self.prob_remontar = 0.1\n",
    "        \n",
    "    def creaAristas(self, matrizAdy):\n",
    "        aristas = {}\n",
    "        for i in range(len(matrizAdy)):\n",
    "            for j in range(i):\n",
    "                arista = Arista(i, j, matrizAdy[i][j])\n",
    "                aristas[i,j] = arista\n",
    "                aristas[j,i] = arista\n",
    "                self.conjuntoAristas.add(arista)\n",
    "        return aristas\n",
    "    \n",
    "    def resetearAlturas(self):\n",
    "        self.alturas = [10000 for i in range(self.numVertices)]\n",
    "        for arista in self.conjuntoAristas:\n",
    "            arista.altura = 10000\n",
    "            if arista.hasta == 0:\n",
    "                arista.altura = 0"
   ]
  },
  {
   "cell_type": "markdown",
   "metadata": {},
   "source": [
    "## Gota\n",
    "La clase Gota representa una solución concreta al problema planteado en el entorno.\n",
    "Realiza un trayecto concreto entre las ciudades eligiendo sus movimientos en base a la diferencia de altura entre las mismas."
   ]
  },
  {
   "cell_type": "code",
   "execution_count": null,
   "metadata": {},
   "outputs": [],
   "source": [
    "class Gota:\n",
    "\n",
    "    def __init__(self, entorno):\n",
    "        self.nodoActual = None\n",
    "        self.inicio = None\n",
    "        self.entorno = entorno\n",
    "        self.visitados = []\n",
    "        self.porVisitar = []\n",
    "        self.trayecto = []\n",
    "        self.distancia = 0\n",
    "        # Atascada será true cuando la gota no tenga ningún sitio al que bajar.\n",
    "        self.atascada = False\n",
    "        \n",
    "    def __str__(self):\n",
    "        resultado = str(self.distancia) + '\\n' + str(self.visitados) + '\\n'\n",
    "        return resultado\n",
    "    \n",
    "    def __repr__(self):\n",
    "        resultado = str(self.distancia) + '\\n' + str(self.visitados) + '\\n'\n",
    "        return resultado\n",
    "        \n",
    "    # Nos va a interesar poder ordenar las gotas según la distancia de su solución\n",
    "    # para poder ordenarlas y quedarnos con la mejor.\n",
    "    def __eq__(self,other):\n",
    "        return self.distancia == other.distancia\n",
    "    \n",
    "    def __lt__(self,other):\n",
    "        return self.distancia < other.distancia\n",
    "        \n",
    "    def inicializar(self, inicio):\n",
    "        self.inicio = inicio\n",
    "        self.nodoActual = inicio\n",
    "        self.visitados = [inicio]\n",
    "        self.porVisitar = [v for v in range(entorno.numVertices) if v != inicio]\n",
    "        self.trayecto = []\n",
    "        self.distancia = 0\n",
    "        self.atascada = False\n",
    "        return self\n",
    "    \n",
    "    # Elige un movimiento y lo efectúa devolviendo la arista elegida.\n",
    "    def movimiento(self):\n",
    "        eleccion = self.elegirMovimiento()\n",
    "        # Caso en el que la gota se atasca\n",
    "        if eleccion is None: return None\n",
    "        return self.realizaMovimiento(eleccion)\n",
    "    \n",
    "    # Elige el movimiento a realizar. Devuelve la arista a usar.\n",
    "    def elegirMovimiento(self):\n",
    "        # Sólo queda volver al nodo original\n",
    "        if not self.porVisitar:\n",
    "            return self.entorno.aristas[self.nodoActual,self.inicio]\n",
    "        listaAristas = []\n",
    "        puedeSubir = random.random() <= self.entorno.prob_remontar\n",
    "        for nodo in self.porVisitar:\n",
    "            if self.entorno.aristas[self.nodoActual,nodo].altura < self.entorno.alturas[self.nodoActual] or puedeSubir:\n",
    "                listaAristas.append(self.entorno.aristas[self.nodoActual,nodo])\n",
    "        if not listaAristas:\n",
    "            self.atascada = True\n",
    "            return None\n",
    "        listaGradientes = [self.calculaGradienteDesde(arista) for arista in listaAristas]\n",
    "        gradienteAcumulado = sum(listaGradientes)\n",
    "        probabilidades = []\n",
    "        for gradiente in listaGradientes:\n",
    "            # Calculamos las probabilidades en %\n",
    "            probabilidades.append(100 * gradiente/gradienteAcumulado)\n",
    "        return random.choices(listaAristas, weights=probabilidades)[0]\n",
    "    \n",
    "    def calculaGradienteDesde(self, arista):\n",
    "        desde = arista.desde if self.nodoActual == arista.desde else arista.hasta\n",
    "        # En el caso en el que sea una arista plana devolvemos un valor pequeño para que la gota se pueda desplazar\n",
    "        diferencia = entorno.alturas[desde] - arista.altura\n",
    "        if diferencia == 0: return 0.1 / arista.distancia\n",
    "        elif diferencia < 0: return 0.1 / abs(diferencia)\n",
    "        return diferencia / arista.distancia\n",
    "    \n",
    "    def calculaGradienteHasta(self, arista):\n",
    "        hasta = arista.hasta if self.nodoActual == arista.desde else arista.desde\n",
    "        # En el caso en el que sea una arista plana devolvemos un valor pequeño para que la gota se pueda desplazar\n",
    "        diferencia = arista.altura - entorno.alturas[hasta]\n",
    "        if diferencia == 0: return 0.1 / arista.distancia\n",
    "        elif diferencia < 0: return 0.1 / abs(diferencia)\n",
    "        return diferencia / arista.distancia\n",
    "    \n",
    "    def realizaMovimiento(self, arista):\n",
    "        hasta = arista.hasta if self.nodoActual == arista.desde else arista.desde\n",
    "        if  not (hasta == self.inicio):\n",
    "            self.visitados.append(hasta)\n",
    "            self.porVisitar.remove(hasta)\n",
    "        self.distancia += arista.distancia\n",
    "        self.nodoActual = hasta\n",
    "        return arista\n",
    "        "
   ]
  },
  {
   "cell_type": "markdown",
   "metadata": {},
   "source": [
    "## Funciones\n",
    "\n",
    "### Función crearGotas\n",
    "\n",
    "Esta función genera un nuevo grupo de gotas y las inicializa en la posición inicial del grafo."
   ]
  },
  {
   "cell_type": "code",
   "execution_count": null,
   "metadata": {},
   "outputs": [],
   "source": [
    "def crearGotas(entorno, numGotas):\n",
    "    gotas = []\n",
    "    for i in range(numGotas):\n",
    "            nuevaGota = Gota(entorno).inicializar(0)\n",
    "            gotas.append(nuevaGota)\n",
    "    return gotas"
   ]
  },
  {
   "cell_type": "markdown",
   "metadata": {},
   "source": [
    "### Función reiniciarGotas\n",
    "\n",
    "Esta función reubica las gotas en el punto inicial del grafo y las prepara para una nueva ejecución."
   ]
  },
  {
   "cell_type": "code",
   "execution_count": null,
   "metadata": {},
   "outputs": [],
   "source": [
    "def reiniciarGotas(gotas):\n",
    "    for gota in gotas:\n",
    "        gota.inicializar(0)"
   ]
  },
  {
   "cell_type": "markdown",
   "metadata": {},
   "source": [
    "### Función encontrarSoluciones\n",
    "\n",
    "Realiza todos los movimientos de todas las gotas según lo indicado en River Flow Dynamics. Gestiona también el caso en el que las gotas se quedan atascadas."
   ]
  },
  {
   "cell_type": "code",
   "execution_count": null,
   "metadata": {},
   "outputs": [],
   "source": [
    "# Dos bucles: ya que todas las gotas tienen que moverse por los nodos hasta haberlos visitado todos.\n",
    "def encontrarSoluciones(entorno, gotas):\n",
    "    for i in range(entorno.numVertices):\n",
    "        for gota in gotas:\n",
    "            if not gota.atascada:\n",
    "                arista = gota.movimiento()\n",
    "                if arista is not None:\n",
    "                    gota.trayecto.append(arista)\n",
    "    gotas = sorted(gotas)\n",
    "    for gota in gotas:\n",
    "        if not gota.atascada:\n",
    "            return gota\n",
    "    return None"
   ]
  },
  {
   "cell_type": "markdown",
   "metadata": {},
   "source": [
    "### Función realizaErosion\n",
    "\n",
    "Erosiona los nodos según el resultado de la iteración del algoritmo."
   ]
  },
  {
   "cell_type": "code",
   "execution_count": null,
   "metadata": {},
   "outputs": [],
   "source": [
    "def realizaErosion(entorno, gotas):\n",
    "    for gota in gotas:\n",
    "        if not gota.atascada:\n",
    "            for arista in gota.trayecto:\n",
    "                desde = arista.desde if gota.nodoActual == arista.desde else arista.hasta\n",
    "                hasta = arista.hasta if gota.nodoActual == arista.desde else arista.desde\n",
    "                if hasta != 0:\n",
    "                    erosion = gota.calculaGradienteDesde(arista)\n",
    "                    entorno.alturas[desde] = max(entorno.alturas[desde] - erosion, 0)\n",
    "                    erosion = gota.calculaGradienteHasta(arista)\n",
    "                    arista.altura = max(arista.altura - entorno.alturas[hasta], 0)"
   ]
  },
  {
   "cell_type": "markdown",
   "metadata": {},
   "source": [
    "### Función depositarSedimentos\n",
    "\n",
    "Deposita sedimentos en cada nodo y arista. Deposita sedimentos adicionales en los nodos de las gotas atascadas."
   ]
  },
  {
   "cell_type": "code",
   "execution_count": null,
   "metadata": {},
   "outputs": [],
   "source": [
    "def depositarSedimentos(entorno, gotas):\n",
    "    entorno.alturas = [altura + 10000 for altura in entorno.alturas]\n",
    "    for arista in entorno.conjuntoAristas:\n",
    "        if arista.hasta != 0:\n",
    "            arista.altura = arista.altura + 10000\n",
    "    for gota in gotas:\n",
    "        if gota.atascada:\n",
    "            entorno.alturas[gota.nodoActual] = entorno.alturas[gota.nodoActual] + 100"
   ]
  },
  {
   "cell_type": "markdown",
   "metadata": {},
   "source": [
    "### Funciones RFD\n",
    "\n",
    "Dado un entorno, un número de iteraciones, y un número de gotas, aplica la metaheurística de River Flow Dynamics para intentar obtener una buena solución al problema del TSP. Devuelve la mejor solución encontrada tras todas las iteraciones. Cada una usa una condición de parada diferente."
   ]
  },
  {
   "cell_type": "code",
   "execution_count": null,
   "metadata": {},
   "outputs": [],
   "source": [
    "def RFDTiempo(entorno, numGotas):\n",
    "    tiempoInicio = time.time()\n",
    "    listaSoluciones = []\n",
    "    entorno.resetearAlturas()\n",
    "    mejorSolucionGlobal = None\n",
    "    gotas = crearGotas(entorno, numGotas)\n",
    "    # Paramos el algoritmo tras 300 segundos (5 minutos)\n",
    "    while time.time() - tiempoInicio < 300:\n",
    "        reiniciarGotas(gotas)\n",
    "        mejorSolucionActual = encontrarSoluciones(entorno, gotas)\n",
    "        if mejorSolucionActual is not None:\n",
    "            if mejorSolucionGlobal is None or mejorSolucionActual < mejorSolucionGlobal:\n",
    "                mejorSolucionGlobal = copy.deepcopy(mejorSolucionActual)\n",
    "        if mejorSolucionGlobal is not None:\n",
    "            listaSoluciones.append(mejorSolucionGlobal)\n",
    "        realizaErosion(entorno, gotas)\n",
    "        depositarSedimentos(entorno, gotas)\n",
    "    tiempoFin = time.time()\n",
    "    tiempo = tiempoFin - tiempoInicio\n",
    "    return listaSoluciones, tiempo"
   ]
  },
  {
   "cell_type": "code",
   "execution_count": null,
   "metadata": {},
   "outputs": [],
   "source": [
    "def RFD(entorno, numGotas):\n",
    "    tiempoInicio = time.time()\n",
    "    # Si no se mejora la solución después de maxSeguidas iteraciones, se para el algoritmo.\n",
    "    seguidas = 0\n",
    "    maxSeguidas = 10000\n",
    "    listaSoluciones = []\n",
    "    entorno.resetearAlturas()\n",
    "    mejorSolucionGlobal = None\n",
    "    gotas = crearGotas(entorno, numGotas)\n",
    "    while seguidas < maxSeguidas:\n",
    "        reiniciarGotas(gotas)\n",
    "        mejorSolucionActual = encontrarSoluciones(entorno, gotas)\n",
    "        if mejorSolucionActual is not None:\n",
    "            if mejorSolucionGlobal is None or mejorSolucionActual < mejorSolucionGlobal:\n",
    "                seguidas = 0\n",
    "                mejorSolucionGlobal = copy.deepcopy(mejorSolucionActual)\n",
    "            else:\n",
    "                seguidas += 1\n",
    "        else:\n",
    "            seguidas += 1\n",
    "        if mejorSolucionGlobal is not None:\n",
    "            listaSoluciones.append(mejorSolucionGlobal)\n",
    "        realizaErosion(entorno, gotas)\n",
    "        depositarSedimentos(entorno, gotas)\n",
    "    tiempoFin = time.time()\n",
    "    tiempo = tiempoFin - tiempoInicio\n",
    "    return listaSoluciones, tiempo"
   ]
  },
  {
   "cell_type": "markdown",
   "metadata": {},
   "source": [
    "## Pruebas"
   ]
  },
  {
   "cell_type": "code",
   "execution_count": null,
   "metadata": {},
   "outputs": [],
   "source": [
    "# Cambiar por el nombre del problema deseado\n",
    "nombreProblema = 'eil51'\n",
    "matrizAdy = cargaCasoTsplib('ALL_tsp/' + nombreProblema + '.tsp')\n",
    "# Alterar este range si se quiere ejecutar pruebas con varios números de individuos.\n",
    "# Por defecto, se empieza por un número de individuos igual al número de ciudades,\n",
    "# y se va aumentando de 5 en 5 hasta 5 veces esa cifra.\n",
    "for numGotas in range(len(matrizAdy), 5 * len(matrizAdy), 5):\n",
    "    # 20 ejecuciones con cada nº de gotas\n",
    "    ejecuciones = []\n",
    "    for i in range(20):\n",
    "        entorno = Entorno(matrizAdy)\n",
    "        soluciones, tiempo = RFD(entorno, numGotas)\n",
    "        ejecuciones.append((tiempo, soluciones))\n",
    "    guardarResultados(ejecuciones, nombreProblema, 'RFD', numGotas)"
   ]
  }
 ],
 "metadata": {
  "kernelspec": {
   "display_name": "Python 3 (ipykernel)",
   "language": "python",
   "name": "python3"
  },
  "language_info": {
   "codemirror_mode": {
    "name": "ipython",
    "version": 3
   },
   "file_extension": ".py",
   "mimetype": "text/x-python",
   "name": "python",
   "nbconvert_exporter": "python",
   "pygments_lexer": "ipython3",
   "version": "3.9.7"
  }
 },
 "nbformat": 4,
 "nbformat_minor": 2
}
