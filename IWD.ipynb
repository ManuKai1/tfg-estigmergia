{
 "cells": [
  {
   "cell_type": "markdown",
   "metadata": {},
   "source": [
    "# Intelligent Water Drops"
   ]
  },
  {
   "cell_type": "markdown",
   "metadata": {},
   "source": [
    "Cada gota representa una solución al problema.\n",
    "Entorno: grafo del problema del viajante simétrico a resolver.\n",
    "Se representa como una matriz de adyacencia en la que el valor de la posición [i][j] es la distancia entre las ciudades i y j."
   ]
  },
  {
   "cell_type": "code",
   "execution_count": null,
   "metadata": {},
   "outputs": [],
   "source": [
    "import random\n",
    "import copy\n",
    "import json\n",
    "import time\n",
    "import tsplib95"
   ]
  },
  {
   "cell_type": "markdown",
   "metadata": {},
   "source": [
    "### Función cargaCasoDePrueba\n",
    "\n",
    "Lee un caso de prueba del fichero con nombre _nombreFichero_ y devuelve la matriz de adyacencia correspondiente."
   ]
  },
  {
   "cell_type": "code",
   "execution_count": null,
   "metadata": {},
   "outputs": [],
   "source": [
    "def cargaCasoDePrueba(nombreFichero):\n",
    "    with open(nombreFichero, 'r') as archivo:\n",
    "        matrizAdy = json.loads(archivo.read())\n",
    "    return matrizAdy"
   ]
  },
  {
   "cell_type": "markdown",
   "metadata": {},
   "source": [
    "### Función tsplibAMatrizAdyacencia\n",
    "\n",
    "Convierte el problema dado del formato tsplib a la matriz de adyacencia correspondiente."
   ]
  },
  {
   "cell_type": "code",
   "execution_count": null,
   "metadata": {},
   "outputs": [],
   "source": [
    "def tsplibAMatrizAdyacencia(problema):\n",
    "    matrizAdy = [[]] * problema.dimension\n",
    "    for i in range(problema.dimension):\n",
    "        matrizAdy[i] = [problema.get_weight(i+1,j+1) for j in range(problema.dimension)]\n",
    "    return matrizAdy"
   ]
  },
  {
   "cell_type": "markdown",
   "metadata": {},
   "source": [
    "### Función cargaCasoTsplib\n",
    "\n",
    "Carga un problema de la tsplib y lo devuelve ya en forma de matriz de adyacencia."
   ]
  },
  {
   "cell_type": "code",
   "execution_count": null,
   "metadata": {},
   "outputs": [],
   "source": [
    "def cargaCasoTsplib(nombreFichero):\n",
    "    problema = tsplib95.load(nombreFichero)\n",
    "    return tsplibAMatrizAdyacencia(problema)"
   ]
  },
  {
   "cell_type": "markdown",
   "metadata": {},
   "source": [
    "### Función guardarResultados\n",
    "\n",
    "Dadas las ejecuciones de un algoritmo, las guarda en un fichero formateado adecuadamente para posteriormente cargarlas en el notebook Graficas.ipynb"
   ]
  },
  {
   "cell_type": "code",
   "execution_count": null,
   "metadata": {},
   "outputs": [],
   "source": [
    "def guardarResultados(ejecuciones, problema, algoritmo, num):\n",
    "    nombreFichero = problema + \"_\" + algoritmo + \"_\" + str(num) + \".txt\"\n",
    "    with open(nombreFichero, 'a') as archivo:\n",
    "        for ejecucion in ejecuciones:\n",
    "            archivo.write(str(ejecucion[0]) + '\\n')\n",
    "            for hormiga in ejecucion[1]:\n",
    "                archivo.write(str(hormiga))\n",
    "            archivo.write('FIN\\n')"
   ]
  },
  {
   "cell_type": "markdown",
   "metadata": {},
   "source": [
    "## Arista\n",
    "La clase Arista nos permite representar un camino entre dos ciudades concretas. Ayuda a guardar el valor de _tierra_ que hay en cada momento en el camino."
   ]
  },
  {
   "cell_type": "code",
   "execution_count": null,
   "metadata": {},
   "outputs": [],
   "source": [
    "class Arista:\n",
    "    def __init__(self, desde, hasta, distancia=None, tierraInicial=None):\n",
    "        self.desde = desde\n",
    "        self.hasta = hasta\n",
    "        self.distancia = 1 if distancia is None else distancia\n",
    "        self.tierraInicial = 10000 if tierraInicial is None else tierraInicial\n",
    "        self.tierra = tierraInicial\n",
    "    \n",
    "    # Actualiza el valor de tierra de la arista al recorrerla una gota.\n",
    "    def actualizarVariacionTierra(self, variacionTierra):\n",
    "        self.tierra = (1-rho_n) * self.tierra - rho_n * variacionTierra"
   ]
  },
  {
   "cell_type": "markdown",
   "metadata": {},
   "source": [
    "## Entorno\n",
    "La clase Entorno representa una instancia del problema del viajante a resolver. Contiene una serie determinada de Aristas que crean el grafo a resolver."
   ]
  },
  {
   "cell_type": "code",
   "execution_count": null,
   "metadata": {},
   "outputs": [],
   "source": [
    "class Entorno:\n",
    "    def __init__(self, matrizAdy, tierraInicial=None):\n",
    "        self.conjuntoAristas = set()\n",
    "        self.aristas = self.creaAristas(matrizAdy, tierraInicial)\n",
    "        self.numVertices = len(matrizAdy)\n",
    "        \n",
    "    def creaAristas(self, matrizAdy, tierraInicial=None):\n",
    "        aristas = {}\n",
    "        for i in range(len(matrizAdy)):\n",
    "            for j in range(i):\n",
    "                arista = Arista(i, j, matrizAdy[i][j],\n",
    "                                tierraInicial = tierraInicial)\n",
    "                aristas[i,j] = arista\n",
    "                aristas[j,i] = arista\n",
    "                self.conjuntoAristas.add(arista)\n",
    "        return aristas\n",
    "    \n",
    "    def resetearTierra(self):\n",
    "        for arista in self.conjuntoAristas:\n",
    "            arista.tierra = arista.tierraInicial"
   ]
  },
  {
   "cell_type": "markdown",
   "metadata": {},
   "source": [
    "## GotaIWD\n",
    "La clase GotaIWD representa una solución concreta al problema planteado en el entorno.\n",
    "Realiza un trayecto concreto entre las ciudades eligiendo sus movimientos en base al nivel de _tierra_ de las aristas. Cuenta también con dos parámetros propios; el nivel de tierra que porta la gota y su velocidad."
   ]
  },
  {
   "cell_type": "code",
   "execution_count": null,
   "metadata": {},
   "outputs": [],
   "source": [
    "class GotaIWD:\n",
    "    def __init__(self, entorno, velocidadInicial=None):\n",
    "        self.nodoActual = None\n",
    "        self.inicio = None\n",
    "        self.entorno = entorno\n",
    "        self.visitados = []\n",
    "        self.porVisitar = []\n",
    "        self.trayecto = []\n",
    "        self.distancia = 0\n",
    "        \n",
    "        self.tierra = 0\n",
    "        self.velocidad = 200 if velocidadInicial is None else velocidadInicial\n",
    "        \n",
    "    def __str__(self):\n",
    "        resultado = str(self.distancia) + '\\n' + str(self.visitados) + '\\n'\n",
    "        return resultado\n",
    "    \n",
    "    def __repr__(self):\n",
    "        resultado = str(self.distancia) + '\\n' + str(self.visitados) + '\\n'\n",
    "        return resultado\n",
    "    \n",
    "    # Nos va a interesar poder ordenar las gotas según la distancia de su solución\n",
    "    # para poder ordenarlas y quedarnos con la mejor.\n",
    "    def __eq__(self,other):\n",
    "        return self.distancia == other.distancia\n",
    "    \n",
    "    def __lt__(self,other):\n",
    "        return self.distancia < other.distancia\n",
    "        \n",
    "    def inicializar(self, inicio, velocidadInicial):\n",
    "        self.entorno = self.entorno\n",
    "        self.inicio = inicio\n",
    "        self.nodoActual = inicio\n",
    "        self.visitados = [inicio]\n",
    "        self.porVisitar = [v for v in range(entorno.numVertices) if v != inicio]\n",
    "        self.trayecto = []\n",
    "        self.distancia = 0\n",
    "        \n",
    "        self.tierra = 0\n",
    "        self.velocidad = velocidadInicial\n",
    "        return self\n",
    "    \n",
    "    # Elige un movimiento para la gota y lo efectúa devolviendo la arista elegida.\n",
    "    def movimiento(self):\n",
    "        eleccion = self.elegirMovimiento()\n",
    "        return self.realizaMovimiento(eleccion)\n",
    "    \n",
    "    # Elige el movimiento de la gota. Devuelve la arista a usar.\n",
    "    def elegirMovimiento(self):\n",
    "        # Sólo queda volver al nodo original\n",
    "        if not self.porVisitar:\n",
    "            return self.entorno.aristas[self.nodoActual, self.inicio]\n",
    "        # Sólo queda un nodo por visitar\n",
    "        if len(self.porVisitar) == 1:\n",
    "            return self.entorno.aristas[self.nodoActual, self.porVisitar[0]]\n",
    "        listaAristas = []\n",
    "        for nodo in self.porVisitar:\n",
    "            listaAristas.append(self.entorno.aristas[self.nodoActual, nodo])\n",
    "        minTierra = min([arista.tierra for arista in listaAristas])\n",
    "        listaf = [self.f(arista, minTierra) for arista in listaAristas]\n",
    "        fAcumulado = sum(listaf)\n",
    "        probabilidades = []\n",
    "        for f in listaf:\n",
    "            # Calculamos las probabilidades en %\n",
    "            probabilidades.append(100 * f/fAcumulado)\n",
    "        return random.choices(listaAristas, weights=probabilidades)[0]\n",
    "    \n",
    "    # Actualiza la posición de la IWD según la arista que va a seguir\n",
    "    def realizaMovimiento(self, arista):\n",
    "        hasta = arista.hasta if self.nodoActual == arista.desde else arista.desde\n",
    "        if  not (hasta == self.inicio):\n",
    "            self.visitados.append(hasta)\n",
    "            self.porVisitar.remove(hasta)\n",
    "        self.distancia += arista.distancia\n",
    "        self.nodoActual = hasta\n",
    "        return arista\n",
    "\n",
    "    # Función auxiliar para la elección probabilista\n",
    "    def f(self, arista, minTierra):\n",
    "        return 1/(eps + self.g(arista, minTierra))\n",
    "    \n",
    "    # Función auxiliar para la elección probabilista\n",
    "    def g(self, arista, minTierra):\n",
    "        if minTierra >= 0:\n",
    "            return arista.tierra\n",
    "        return arista.tierra - minTierra\n",
    "    \n",
    "    # Actualiza la velocidad de la gota en función de la tierra de la arista\n",
    "    def actualizarVelocidad(self, arista):\n",
    "        self.velocidad = self.velocidad + (a_v/(b_v + c_v * pow(arista.tierra, 2)))\n",
    "    \n",
    "    # Calcula la tierra que la gota desprende de la arista y la actualiza.\n",
    "    # Devuelve la variación de la tierra para actualizarla directamente en la arista sin recalcularla.\n",
    "    def actualizarVariacionTierra(self, arista):\n",
    "        variacionTierra = a_s / (b_s + c_s * pow(self.tiempo(arista),2))\n",
    "        self.tierra = self.tierra + variacionTierra\n",
    "        return variacionTierra\n",
    "    \n",
    "    # Función auxiliar para el cálculo de la variación de tierra\n",
    "    def tiempo(self, arista):\n",
    "        # En el caso del TSP, podemos usar la distancia como heurística.\n",
    "        return arista.distancia/self.velocidad\n",
    "    "
   ]
  },
  {
   "cell_type": "markdown",
   "metadata": {},
   "source": [
    "### Función crearGotas\n",
    "\n",
    "Esta función genera una nueva lista de gotas y les asigna el entorno asociado."
   ]
  },
  {
   "cell_type": "code",
   "execution_count": null,
   "metadata": {},
   "outputs": [],
   "source": [
    "def crearGotas(numGotas, entorno):\n",
    "    gotas = []\n",
    "    for i in range(numGotas):\n",
    "        nuevaGota = GotaIWD(entorno)\n",
    "        gotas.append(nuevaGota)\n",
    "    return gotas"
   ]
  },
  {
   "cell_type": "markdown",
   "metadata": {},
   "source": [
    "### Función reiniciarGotas\n",
    "\n",
    "Esta función devuelve las gotas a su estado inicial de tierra y velocidad y las ubica en un punto inicial aleatorio del grafo."
   ]
  },
  {
   "cell_type": "code",
   "execution_count": null,
   "metadata": {},
   "outputs": [],
   "source": [
    "def reiniciarGotas(gotas, velocidadInicial):\n",
    "    for gota in gotas:\n",
    "        gota.inicializar(random.randrange(gota.entorno.numVertices), velocidadInicial)"
   ]
  },
  {
   "cell_type": "markdown",
   "metadata": {},
   "source": [
    "### Función encontrarSoluciones\n",
    "\n",
    "Realiza todos los movimientos de todas las gotas (actualizando sus valores de tierra y su velocidad) según lo indicado en Intelligent Water Drops para que cada gota tenga una solución completa. También gestiona las actualizaciones locales de las aristas."
   ]
  },
  {
   "cell_type": "code",
   "execution_count": null,
   "metadata": {},
   "outputs": [],
   "source": [
    "# Dos bucles: ya que todas las gotas tienen que moverse por los nodos hasta haberlos visitado todos.\n",
    "def encontrarSoluciones(entorno, gotas):\n",
    "    for i in range(entorno.numVertices):\n",
    "        for gota in gotas:\n",
    "            arista = gota.movimiento()\n",
    "            gota.trayecto.append(arista)\n",
    "            \n",
    "            gota.actualizarVelocidad(arista)\n",
    "            variacionTierra = gota.actualizarVariacionTierra(arista)\n",
    "            arista.actualizarVariacionTierra(variacionTierra)\n",
    "            \n",
    "    gotas = sorted(gotas)\n",
    "    return gotas[0]"
   ]
  },
  {
   "cell_type": "code",
   "execution_count": null,
   "metadata": {},
   "outputs": [],
   "source": [
    "def actualizarAristasMejorActual(entorno, mejorSolucionActual):\n",
    "    for arista in mejorSolucionActual.trayecto:\n",
    "        arista.tierra = (1 + rho_iwd) * arista.tierra - rho_iwd * (1 / (entorno.numVertices - 1)) * mejorSolucionActual.tierra"
   ]
  },
  {
   "cell_type": "markdown",
   "metadata": {},
   "source": [
    "### Funciones IWD\n",
    "\n",
    "Dado un entorno, un número de iteraciones, y un número de gotas, aplica la metaheurística de Intelligent Water Drops para intentar obtener una buena solución al problema del TSP. Devuelve la mejor solución encontrada tras todas las iteraciones. Cada una usa una condición de parada diferente."
   ]
  },
  {
   "cell_type": "code",
   "execution_count": null,
   "metadata": {},
   "outputs": [],
   "source": [
    "def IWDTiempo(entorno, numGotas):\n",
    "    tiempoInicio = time.time()\n",
    "    listaSoluciones = []\n",
    "    entorno.resetearTierra()\n",
    "    mejorSolucionGlobal = None\n",
    "    gotas = crearGotas(numGotas, entorno)\n",
    "    # Paramos el algoritmo tras 300 segundos (5 minutos)\n",
    "    while time.time() - tiempoInicio < 300:\n",
    "        reiniciarGotas(gotas, velocidad_ini)\n",
    "        mejorSolucionActual = encontrarSoluciones(entorno, gotas)\n",
    "        if mejorSolucionGlobal is None or mejorSolucionActual < mejorSolucionGlobal:\n",
    "            mejorSolucionGlobal = copy.deepcopy(mejorSolucionActual)\n",
    "        listaSoluciones.append(mejorSolucionGlobal)\n",
    "        actualizarAristasMejorActual(entorno, mejorSolucionActual)\n",
    "    tiempoFin = time.time()\n",
    "    tiempo = tiempoFin - tiempoInicio\n",
    "    return listaSoluciones, tiempo"
   ]
  },
  {
   "cell_type": "code",
   "execution_count": null,
   "metadata": {},
   "outputs": [],
   "source": [
    "def IWD(entorno, numGotas):\n",
    "    tiempoInicio = time.time()\n",
    "    # Si no se mejora la solución después de maxSeguidas iteraciones, se para el algoritmo.\n",
    "    seguidas = 0\n",
    "    maxSeguidas = 10000\n",
    "    listaSoluciones = []\n",
    "    entorno.resetearTierra()\n",
    "    mejorSolucionGlobal = None\n",
    "    gotas = crearGotas(numGotas, entorno)\n",
    "    while seguidas < maxSeguidas:\n",
    "        reiniciarGotas(gotas, velocidad_ini)\n",
    "        mejorSolucionActual = encontrarSoluciones(entorno, gotas)\n",
    "        if mejorSolucionGlobal is None or mejorSolucionActual < mejorSolucionGlobal:\n",
    "            seguidas = 0\n",
    "            mejorSolucionGlobal = copy.deepcopy(mejorSolucionActual)\n",
    "        else:\n",
    "            seguidas += 1\n",
    "        listaSoluciones.append(mejorSolucionGlobal)\n",
    "        actualizarAristasMejorActual(entorno, mejorSolucionActual)\n",
    "    tiempoFin = time.time()\n",
    "    tiempo = tiempoFin - tiempoInicio\n",
    "    return listaSoluciones, tiempo"
   ]
  },
  {
   "cell_type": "markdown",
   "metadata": {},
   "source": [
    "## Pruebas"
   ]
  },
  {
   "cell_type": "markdown",
   "metadata": {},
   "source": [
    "#### Definiciones de cada parámetro:\n",
    "\n",
    "a_v, b_v, c_v: Parámetros de actualización de la velocidad.\n",
    "\n",
    "a_s, b_s, c_s: Parámetros de actualización de la tierra.\n",
    "\n",
    "rho_n: Parámetro de actualización de tierra local.\n",
    "\n",
    "rho_iwd: Parámetro de actualización de tierra global.\n",
    "\n",
    "tierra_ini: Tierra inicial de cada arista.\n",
    "\n",
    "velocidad_ini: Velocidad inicial de las gotas.\n",
    "\n",
    "eps: Parámetro numérico positivo muy pequeño para evitar la división por cero."
   ]
  },
  {
   "cell_type": "code",
   "execution_count": null,
   "metadata": {},
   "outputs": [],
   "source": [
    "a_v = c_v = 1\n",
    "b_v = 0.01\n",
    "a_s = c_s = 1\n",
    "b_s = 0.01\n",
    "\n",
    "rho_n = rho_iwd = 0.9\n",
    "\n",
    "tierra_ini = 10000\n",
    "velocidad_ini = 200\n",
    "\n",
    "eps = 0.000000000001"
   ]
  },
  {
   "cell_type": "code",
   "execution_count": null,
   "metadata": {},
   "outputs": [],
   "source": [
    "# Cambiar por el nombre del problema deseado\n",
    "nombreProblema = 'eil51'\n",
    "matrizAdy = cargaCasoTsplib('ALL_tsp/' + nombreProblema + '.tsp')\n",
    "# Alterar este range si se quiere ejecutar pruebas con varios números de individuos.\n",
    "# Por defecto, se empieza por un número de individuos igual al número de ciudades,\n",
    "# y se va aumentando de 5 en 5 hasta 5 veces esa cifra.\n",
    "for numGotas in range(len(matrizAdy), 5 * len(matrizAdy), 5):\n",
    "    # 20 ejecuciones con cada nº de gotas\n",
    "    ejecuciones = []\n",
    "    for i in range(20):\n",
    "        entorno = Entorno(matrizAdy)\n",
    "        soluciones, tiempo = IWD(entorno, numGotas)\n",
    "        ejecuciones.append((tiempo, soluciones))\n",
    "    guardarResultados(ejecuciones, nombreProblema, 'IWD', numGotas)"
   ]
  }
 ],
 "metadata": {
  "kernelspec": {
   "display_name": "Python 3 (ipykernel)",
   "language": "python",
   "name": "python3"
  },
  "language_info": {
   "codemirror_mode": {
    "name": "ipython",
    "version": 3
   },
   "file_extension": ".py",
   "mimetype": "text/x-python",
   "name": "python",
   "nbconvert_exporter": "python",
   "pygments_lexer": "ipython3",
   "version": "3.9.7"
  }
 },
 "nbformat": 4,
 "nbformat_minor": 2
}
